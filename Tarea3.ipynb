{
 "cells": [
  {
   "cell_type": "markdown",
   "id": "a63a59d6-27a8-4299-bf91-ed7625de229d",
   "metadata": {},
   "source": [
    "###  Aplicaciones de Machine Learning en Física\n",
    "\n",
    "#### Aplicación 1: Predicción de trayectorias de partículas\n",
    "\n",
    "En física de aceleradores, se pueden usar redes neuronales recurrentes (RNNs) para predecir las trayectorias de partículas en función de condiciones iniciales y datos experimentales previos. Esto permite anticipar comportamientos no lineales y ajustar los parámetros de control en tiempo real.\n",
    "\n",
    "#### Aplicación 2: Clasificación de fases de la materia en sistemas cuánticos\n",
    "\n",
    "En sistemas cuánticos simulados (como cadenas de espines o redes fermiónicas), se pueden usar algoritmos de clasificación como Support Vector Machines (SVM) o Random Forest para identificar fases de la materia (topológicas, ferromagnéticas, etc.) a partir de datos generados por simulaciones, sin requerir un conocimiento previo exacto del sistema.\n",
    "\n",
    "---\n",
    "\n",
    "###  Métricas de Evaluación para Algoritmos de Clasificación\n",
    "\n",
    "1. **Accuracy (Exactitud)**: proporción de predicciones correctas sobre el total de datos.\n",
    "2. **Precision (Precisión)**: qué tan acertadas son las predicciones positivas.\n",
    "3. **Recall (Sensibilidad)**: qué tan bien el modelo detecta los positivos reales.\n",
    "4. **F1-Score**: media armónica entre precisión y recall.\n",
    "5. **Matriz de confusión**: tabla que muestra verdaderos positivos (TP), falsos positivos (FP), verdaderos negativos (TN) y falsos negativos (FN).\n",
    "\n",
    "Estas métricas permiten evaluar la calidad de un clasificador según el problema y la distribución de clases.\n",
    "\n",
    "---\n",
    "\n",
    "### ⚙️ ¿Qué son los Hiperparámetros?\n",
    "\n",
    "Los **hiperparámetros** son parámetros que se definen *antes* del entrenamiento de un modelo. A diferencia de los parámetros aprendidos (como los pesos de una red neuronal), estos se ajustan manualmente o mediante métodos automáticos como búsqueda de grilla o optimización bayesiana.\n",
    "\n",
    "Ejemplos de hiperparámetros:\n",
    "- Tasa de aprendizaje (`learning rate`)\n",
    "- Número de capas ocultas o neuronas\n",
    "- Profundidad de un árbol en Random Forest\n",
    "- `k` en k-NN\n",
    "\n",
    "El ajuste correcto de los hiperparámetros puede marcar la diferencia entre un modelo mediocre y uno de alto rendimiento.\n",
    "\n",
    "---\n",
    "\n",
    "### ¿Qué es `train_test_split`?\n",
    "\n",
    "`train_test_split` es una función de Scikit-Learn que divide un conjunto de datos en dos subconjuntos:\n",
    "\n",
    "- **Conjunto de entrenamiento** (`train`): usado para entrenar el modelo.\n",
    "- **Conjunto de prueba** (`test`): usado para evaluar el modelo con datos no vistos.\n",
    "\n",
    "Esta división permite medir el rendimiento real del modelo y reducir el riesgo de sobreajuste (`overfitting`).\n",
    "\n",
    "```python\n",
    "from sklearn.model_selection import train_test_split\n",
    "X_train, X_test, y_train, y_test = train_test_split(X, y, test_size=0.2, random_state=42)\n",
    "\n"
   ]
  },
  {
   "cell_type": "markdown",
   "id": "69b434b0-5aab-4f39-9371-78c54a828f4d",
   "metadata": {},
   "source": []
  }
 ],
 "metadata": {
  "kernelspec": {
   "display_name": "Python [conda env:base] *",
   "language": "python",
   "name": "conda-base-py"
  },
  "language_info": {
   "codemirror_mode": {
    "name": "ipython",
    "version": 3
   },
   "file_extension": ".py",
   "mimetype": "text/x-python",
   "name": "python",
   "nbconvert_exporter": "python",
   "pygments_lexer": "ipython3",
   "version": "3.12.3"
  }
 },
 "nbformat": 4,
 "nbformat_minor": 5
}
